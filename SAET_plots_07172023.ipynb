{
 "cells": [
  {
   "cell_type": "code",
   "execution_count": 2,
   "id": "cfec004b",
   "metadata": {},
   "outputs": [],
   "source": [
    "import numpy as np\n",
    "from matplotlib import pyplot as plt\n",
    "import os\n",
    "\n",
    "varrho = 448\n",
    "gamma_3_length = 5\n",
    "A_d = 0.12\n",
    "A_g = 0.10\n",
    "beta = 1.86 / 1000\n",
    "eta = 0.17\n"
   ]
  },
  {
   "cell_type": "code",
   "execution_count": 3,
   "id": "a755e525",
   "metadata": {},
   "outputs": [],
   "source": [
    "IntPeriod = 60\n",
    "timespan = 12\n",
    "Months = IntPeriod * timespan\n",
    "time_vec = np.linspace(0,IntPeriod,Months)"
   ]
  },
  {
   "cell_type": "code",
   "execution_count": 4,
   "id": "1b79cb42",
   "metadata": {},
   "outputs": [],
   "source": [
    "def load_txt_files(folder_name):\n",
    "    data_dict = {}\n",
    "    for filename in os.listdir(folder_name):\n",
    "        if filename.endswith(\".txt\") and \"params.txt\" not in filename:\n",
    "            key = filename[:-4] # remove \".txt\" extension from file name\n",
    "            file_path = os.path.join(folder_name, filename)\n",
    "            data_dict[key] = np.loadtxt(file_path)[0:IntPeriod * timespan] \n",
    "            \n",
    "    data_dict[\"I_g\"] =  np.exp(data_dict['log_K_simulation']) * data_dict['R_simulation'] * data_dict['i_g_simulation']\n",
    "    data_dict[\"I_d\"] =  np.exp(data_dict['log_K_simulation']) * (1.0 - data_dict['R_simulation'])  * data_dict['i_d_simulation']\n",
    "    data_dict[\"I_I/Y\"] =  np.exp(data_dict['log_K_simulation']) * data_dict['i_I_simulation'] /  \\\n",
    "    (np.exp(data_dict['log_K_simulation']) * data_dict['R_simulation'] * A_d + \\\n",
    "     np.exp(data_dict['log_K_simulation']) * (1.0 - data_dict['R_simulation']) * A_g)\n",
    "    data_dict[\"E\"] = eta * np.exp(data_dict['log_K_simulation']) * (1.0 - data_dict['R_simulation'] ) * A_d\n",
    "    \n",
    "    data_dict['K_g'] = np.exp(data_dict['log_K_simulation']) * data_dict['R_simulation']\n",
    "    data_dict['K_d'] = np.exp(data_dict['log_K_simulation']) * (1.0 - data_dict['R_simulation'])\n",
    "    dt  = 1/12\n",
    "    r_1         = 1.5\n",
    "    r_2         = 2.5\n",
    "    y_lower_bar = 1.5\n",
    "    I_g        =  np.exp(data_dict['log_I_g_simulation'])\n",
    "    g          =  data_dict['g_simulation']\n",
    "    integrand  =  I_g / varrho * g * dt \n",
    "    integral   = -np.cumsum(integrand)\n",
    "    distorted_probability = 1.0 - np.exp(integral)\n",
    "    data_dict['distorted_probability_tech']  = distorted_probability\n",
    "\n",
    "\n",
    "    I_g        =  np.exp(data_dict['log_I_g_simulation'])\n",
    "    g          =  data_dict['g_simulation']\n",
    "    integrand  =  I_g / varrho * dt \n",
    "    integral   = -np.cumsum(integrand)\n",
    "    baseline_probability = 1.0 - np.exp(integral)\n",
    "    data_dict['baseline_probability_tech']  = baseline_probability\n",
    "\n",
    "    \n",
    "    data_dict['damage_jump_intensity'] =  r_1 * ( np.exp( r_2 / 2 * np.power( data_dict['T_simulation'] - y_lower_bar,2) ) - 1  ) * (data_dict['T_simulation']  > y_lower_bar )\n",
    "\n",
    "    for i in range(1, gamma_3_length+1):\n",
    "        data_dict['distorted_damage_jump_prob_' + str(i)] =  1-np.exp(-np.cumsum(data_dict['damage_jump_intensity'] \n",
    "                                                                             * data_dict['f_m_' + str(i) + '_simulation'] * dt))\n",
    "        \n",
    "    data_dict['damage_jump_prob'] = 1-np.exp(-np.cumsum(data_dict['damage_jump_intensity'] * dt))\n",
    "\n",
    "    pattern = 'f_m_{}_simulation'\n",
    "    sum_array = np.zeros_like(data_dict[pattern.format(1)])\n",
    "    for i in range(1, gamma_3_length+1):\n",
    "        key = pattern.format(i)\n",
    "        sum_array += data_dict[key]\n",
    "    data_dict['f_m_sum'] = sum_array\n",
    "\n",
    "    # Loop through the keys and normalize the corresponding arrays\n",
    "    for i in range(1, gamma_3_length + 1):\n",
    "        f_m_key = 'f_m_{}_simulation'.format(i)\n",
    "        f_m_norm_key = 'f_m_{}_normalized'.format(i)\n",
    "        data_dict[f_m_norm_key] = data_dict[f_m_key] / data_dict['f_m_sum']\n",
    "        \n",
    "    \n",
    "    \n",
    "    pattern = 'f_m_{}_simulation'\n",
    "    sum_array = np.zeros_like(data_dict[pattern.format(1)])\n",
    "    for i in range(1, gamma_3_length+1):\n",
    "        key = pattern.format(i)\n",
    "        sum_array += data_dict[key]\n",
    "    data_dict['f_m_sum'] = sum_array\n",
    "\n",
    "    # Loop through the keys and normalize the corresponding arrays\n",
    "    for i in range(1, gamma_3_length + 1):\n",
    "        f_m_key = 'f_m_{}_simulation'.format(i)\n",
    "        f_m_norm_key = 'f_m_{}_normalized'.format(i)\n",
    "        data_dict[f_m_norm_key] = data_dict[f_m_key] / data_dict['f_m_sum']\n",
    "        \n",
    "    \n",
    "    # Select the keys to plot\n",
    "    keys_to_plot = ['f_m_{}_normalized'.format(i) for i in range(1, gamma_3_length+1)]\n",
    "\n",
    "    \n",
    "    ## Plot bar chart\n",
    "    baseline = np.ones(gamma_3_length) / gamma_3_length\n",
    "    \n",
    "    \n",
    "\n",
    "    pattern = 'f_m_{}_normalized'\n",
    "    distorted = np.stack([data_dict[pattern.format(i)][-1] for i in range(1, gamma_3_length+1)])\n",
    "\n",
    "    data_dict[\"distorted_normalized_damage_prob\"] = distorted\n",
    "    data_dict[\"baseline_normalized_damage_prob\"] = baseline\n",
    "\n",
    "    return data_dict"
   ]
  },
  {
   "cell_type": "code",
   "execution_count": 5,
   "id": "e6d65e87",
   "metadata": {},
   "outputs": [],
   "source": [
    "\n",
    "def distorted_damage_jump_prob(data_dict):\n",
    "\n",
    "\n",
    "    # Select the keys to plot\n",
    "\n",
    "    keys_to_plot = [\"distorted_damage_jump_prob_\" + str(i) for i in range(1, gamma_3_length + 1)]\n",
    "    keys_to_plot.append( 'damage_jump_prob' )\n",
    "    \n",
    "    # Create a figure with larger size\n",
    "    fig, ax = plt.subplots(figsize=(10,6))\n",
    "\n",
    "    # Plot the keys\n",
    "    for key in keys_to_plot:\n",
    "        ax.plot(data_dict[key], label=key)\n",
    "\n",
    "    # Set x limits\n",
    "    #ax.set_xlim([0, len(data_dict['damage_jump_intensity'])])\n",
    "    # Add labels and legend\n",
    "    plt.xlabel('Time')\n",
    "    plt.ylabel('Probability')\n",
    "    plt.title('Damage Jump Probability')\n",
    "    plt.legend()\n",
    "\n",
    "    # Show the plot\n",
    "    plt.show()\n",
    "\n",
    "def f_m_norm(data_dict):\n",
    "    \n",
    "\n",
    "\n",
    "    # Select the keys to plot\n",
    "    keys_to_plot = ['f_m_{}_normalized'.format(i) for i in range(1, gamma_3_length+1)]\n",
    "\n",
    "\n",
    "    # Create a figure with larger size\n",
    "    fig, ax = plt.subplots(figsize=(10,6))\n",
    "\n",
    "    # Plot the keys\n",
    "    for key in keys_to_plot:\n",
    "        ax.plot(data_dict[key], label=key)\n",
    "\n",
    "    # Set x limits\n",
    "    #ax.set_xlim([0, len(data_dict['damage_jump_intensity'])])\n",
    "    # Add labels and legend\n",
    "    plt.xlabel('Time')\n",
    "    plt.ylabel('Probability')\n",
    "    plt.title('Damage Jump Probability')\n",
    "    plt.legend()\n",
    "\n",
    "    # Show the plot\n",
    "    plt.show()\n",
    "\n",
    "    \n",
    "def f_m_norm_bar(data_dict):\n",
    "    data_dict['f_m_sum'] = data_dict['f_m_1_simulation'] + data_dict['f_m_2_simulation'] + data_dict['f_m_3_simulation'] + data_dict['f_m_4_simulation'] + data_dict['f_m_5_simulation']\n",
    "\n",
    "    # Loop through the keys and normalize the corresponding arrays\n",
    "    for i in range(1, 6):\n",
    "        f_m_key = 'f_m_{}_simulation'.format(i)\n",
    "        f_m_norm_key = 'f_m_{}_normalized'.format(i)\n",
    "        data_dict[f_m_norm_key] = data_dict[f_m_key] / data_dict['f_m_sum']\n",
    "        \n",
    "    \n",
    "    ## Plot bar chart\n",
    "    baseline = np.ones(5) / 5\n",
    "    distorted = np.array([ data_dict['f_m_1_normalized'][-1], data_dict['f_m_2_normalized'][-1],\n",
    "                         data_dict['f_m_3_normalized'][-1], data_dict['f_m_4_normalized'][-1], data_dict['f_m_5_normalized'][-1]])\n",
    "#     x1       = np.array(list(range(5)))\n",
    "    x1       = np.linspace(0,1/3,5)\n",
    "    plt.bar(x1,baseline, width=(1/3)*(1/4), label='Baseline', color = 'C3', alpha=0.5, ec=\"darkgrey\")\n",
    "    plt.bar(x1, distorted, width=(1/3)*(1/4), label='Distorted', color = 'C0', alpha=0.5, ec=\"darkgrey\")\n",
    "#     plt.hist(baseline, color = 'C3', alpha=0.5, ec=\"darkgrey\")\n",
    "#     plt.hist(distorted, color = 'C0', alpha=0.5, ec=\"darkgrey\")\n",
    "\n",
    "    plt.ylim(0,0.5)\n",
    "    plt.title(\"Distorted Probability of Damage Models\")\n",
    "    plt.xlabel(r\"$\\gamma_3$\")\n",
    "#     plt.show()\n",
    "    plt.savefig('Dmg_Dist_IMSI_2023.png')\n",
    "\n",
    "    \n",
    "def h_hist(data_dict,  width_bins = 10e-3):\n",
    "    beta_f =  1.86 / 1000\n",
    "    varsigma = 1.2 * 1.86 / 1000\n",
    "#     bin_edges = np.arange(np.min(theta_ell),  np.max(theta_ell),  width_bins)\n",
    "#     plt.hist(theta_ell + varsigma * data_dict['h_simulation'][-1], bins = bin_edges, alpha=0.5)\n",
    "#     plt.hist(theta_ell, bins = bin_edges, alpha=0.5)\n",
    "    bin_edges = np.arange(np.min(theta_ell),  np.max(theta_ell),  width_bins)\n",
    "    plt.hist(1000*theta_ell, bins = np.linspace(0.8,3.,16), color = 'C3', alpha=0.5, ec=\"darkgrey\")\n",
    "    plt.hist(1000*(theta_ell + varsigma * data_dict['h_simulation'][-1]), bins = np.linspace(0.8,3.,16), color = 'C0', alpha=0.5, ec=\"darkgrey\")\n",
    "    plt.ylim(0,30)\n",
    "    plt.title(\"Distorted Probability of Climate Models\")\n",
    "    plt.xlabel(\"Climate Sensitivity\")\n",
    "#     plt.show()\n",
    "    plt.savefig('Climate_Dist_IMSI_2023.png')\n",
    "#     plt.savefig()\n",
    "    \n",
    "\n",
    "def plot_subplots(data_dict, keys, titles, num_columns=3, figsize=(14, 8)):\n",
    "    num_rows = int(np.ceil(len(keys) / num_columns))\n",
    "    fig, axs = plt.subplots(num_rows, num_columns, figsize=figsize)\n",
    "    subplot_size = fig.get_size_inches() / np.array([num_columns, num_rows])\n",
    "    for i, (key, title) in enumerate(zip(keys, titles)):\n",
    "        row = i // num_columns\n",
    "        col = i % num_columns\n",
    "        ax = axs[row, col]\n",
    "        ax.set_title(title)\n",
    "        ax.plot(data_dict[key])\n",
    "        ax.set_xlabel('month')\n",
    "    fig.subplots_adjust(hspace=1.2, wspace=0.2)\n",
    "    plt.show()\n"
   ]
  },
  {
   "cell_type": "code",
   "execution_count": 6,
   "id": "a4bfd963",
   "metadata": {},
   "outputs": [],
   "source": [
    "import pandas as pd\n",
    "url = 'https://raw.githubusercontent.com/SuriChen1028/TwoCapital/main/data/model144.csv'\n",
    "\n",
    "theta_ell = (pd.read_csv(url, header=None).to_numpy()[:,0]/1000).astype(np.float32)\n"
   ]
  },
  {
   "cell_type": "code",
   "execution_count": 7,
   "id": "462f44da",
   "metadata": {},
   "outputs": [],
   "source": [
    "# distorted_damage_jump_prob(data_dict)"
   ]
  },
  {
   "cell_type": "markdown",
   "id": "e9fb81f6",
   "metadata": {},
   "source": [
    "# Comparative statics"
   ]
  },
  {
   "cell_type": "code",
   "execution_count": 12,
   "id": "6d4354b3",
   "metadata": {},
   "outputs": [],
   "source": [
    "# folder_name = \"A_g_prime_03_psi_01/pre_damage_pre_tech\"\n",
    "# data_dict_1 = load_txt_files(folder_name)\n",
    "# folder_name = \"A_g_prime_03_psi_02/pre_damage_pre_tech\"\n",
    "# data_dict_2 = load_txt_files(folder_name)\n",
    "# folder_name = \"A_g_prime_03_psi_03/pre_damage_pre_tech\"\n",
    "# data_dict_3 = load_txt_files(folder_name)\n",
    "# folder_name = \"A_g_prime_03_psi_04/pre_damage_pre_tech\"\n",
    "# data_dict_4 = load_txt_files(folder_name)\n",
    "\n",
    "# folder_name = \"A_g_prime_015_psi_01/pre_damage_pre_tech\"\n",
    "# data_dict_1 = load_txt_files(folder_name)\n",
    "# folder_name = \"A_g_prime_015_psi_02/pre_damage_pre_tech\"\n",
    "# data_dict_2 = load_txt_files(folder_name)\n",
    "# folder_name = \"A_g_prime_015_psi_03/pre_damage_pre_tech\"\n",
    "# data_dict_3 = load_txt_files(folder_name)\n",
    "# folder_name = \"A_g_prime_015_psi_04/pre_damage_pre_tech\"\n",
    "# data_dict_4 = load_txt_files(folder_name)\n",
    "\n",
    "\n",
    "folder_name = \"SAET_2023_charts/model_0\"\n",
    "data_dict_1 = load_txt_files(folder_name)\n",
    "\n",
    "folder_name = \"SAET_2023_charts/model_3\"\n",
    "data_dict_4 = load_txt_files(folder_name)"
   ]
  },
  {
   "cell_type": "code",
   "execution_count": 13,
   "id": "321e83a7",
   "metadata": {},
   "outputs": [],
   "source": [
    "# IntPeriod = 30\n",
    "# timespan = 12\n",
    "# Months = IntPeriod * timespan\n",
    "# time_vec = np.linspace(0,IntPeriod,Months)"
   ]
  },
  {
   "cell_type": "code",
   "execution_count": 33,
   "id": "4a8317e0",
   "metadata": {},
   "outputs": [
    {
     "data": {
      "image/png": "[encoded data removed]",
      "text/plain": [
       "<Figure size 432x288 with 1 Axes>"
      ]
     },
     "metadata": {
      "needs_background": "light"
     },
     "output_type": "display_data"
    }
   ],
   "source": [
    "plt.figure()\n",
    "plt.plot(time_vec,data_dict_1[\"E\"], label = r\"$\\xi = 0.1$\", color = 'tab:blue', linewidth='2')\n",
    "# plt.plot(time_vec,data_dict_2[\"E\"], label = r\"$\\xi = 0.5$\")\n",
    "# plt.plot(time_vec,data_dict_3[\"E\"], label = r\"$\\xi = 1.0$\")\n",
    "plt.plot(time_vec,data_dict_4[\"E\"], label = \"baseline\", color = 'tab:red', linewidth='2')\n",
    "plt.xlabel('Years')\n",
    "plt.title(\"Emissions\")\n",
    "plt.ylim(7.5,11.5)\n",
    "# plt.xlim(0,IntPeriod)\n",
    "plt.legend(loc='upper left')\n",
    "\n",
    "plt.savefig('Ems_Comp_IMSI_2023.png')"
   ]
  },
  {
   "cell_type": "code",
   "execution_count": 15,
   "id": "cd880cde",
   "metadata": {},
   "outputs": [
    {
     "data": {
      "image/png": "[encoded data removed]",
      "text/plain": [
       "<Figure size 432x288 with 1 Axes>"
      ]
     },
     "metadata": {
      "needs_background": "light"
     },
     "output_type": "display_data"
    }
   ],
   "source": [
    "plt.figure()\n",
    "plt.plot(time_vec,data_dict_1[\"distorted_probability_tech\"], label = r\"$\\xi = 0.1$\", color = 'tab:blue', linewidth='2')\n",
    "# plt.plot(time_vec,data_dict_2[\"distorted_probability_tech\"], label = r\"$\\xi = 0.5$\")\n",
    "# plt.plot(data_dict_3[\"distorted_probability_tech\"], label = r\"$\\xi = 1.0$\")\n",
    "plt.plot(time_vec,data_dict_4[\"distorted_probability_tech\"], label = 'baseline', color = 'tab:red', linewidth='2')\n",
    "plt.xlabel('Years')\n",
    "plt.title(\"Distorted Probability of a Technology Jump\")\n",
    "plt.ylim(0,1)\n",
    "# plt.xlim(0,IntPeriod)\n",
    "plt.legend(loc='upper left')\n",
    "\n",
    "plt.savefig('TechJumpProb_Comp_IMSI_2023.png')"
   ]
  },
  {
   "cell_type": "code",
   "execution_count": 16,
   "id": "1d0e9022",
   "metadata": {},
   "outputs": [
    {
     "data": {
      "image/png": "[encoded data removed]",
      "text/plain": [
       "<Figure size 432x288 with 1 Axes>"
      ]
     },
     "metadata": {
      "needs_background": "light"
     },
     "output_type": "display_data"
    }
   ],
   "source": [
    "plt.figure()\n",
    "# plt.plot(data_dict_1[\"I_g\"], label = r\"$\\xi = 0.15$\")\n",
    "plt.plot(time_vec,data_dict_1[\"I_g\"], label = r\"$\\xi = 0.1$\", color = 'tab:blue', linewidth='2')\n",
    "# plt.plot(time_vec,data_dict_2[\"I_g\"], label = r\"$\\xi = 0.5$\")\n",
    "# plt.plot(time_vec,data_dict_3[\"I_g\"], label = r\"$\\xi = 1.0$\")\n",
    "plt.plot(time_vec,data_dict_4[\"I_g\"], label = 'baseline', color = 'tab:red', linewidth='2')\n",
    "# plt.title(r\"$I_g$\")\n",
    "plt.xlabel('Years')\n",
    "plt.title(r\"Green Investment ($I_g$)\")\n",
    "# plt.ylim(0,1)\n",
    "# plt.xlim(0,IntPeriod)\n",
    "plt.legend(loc='upper left')\n",
    "\n",
    "plt.savefig('Ig_Comp_IMSI_2023.png')"
   ]
  },
  {
   "cell_type": "code",
   "execution_count": 61,
   "id": "b38b0138",
   "metadata": {},
   "outputs": [
    {
     "data": {
      "image/png": "[encoded data removed]",
      "text/plain": [
       "<Figure size 432x288 with 1 Axes>"
      ]
     },
     "metadata": {
      "needs_background": "light"
     },
     "output_type": "display_data"
    }
   ],
   "source": [
    "plt.figure()\n",
    "#plt.plot(data_dict_1[\"I_d\"], label = r\"$\\xi = 0.15$\")\n",
    "plt.plot(time_vec,data_dict_1[\"I_d\"], label = r\"$\\xi = 0.1$\", color = 'tab:blue', linewidth='2')\n",
    "# plt.plot(time_vec,data_dict_2[\"I_d\"], label = r\"$\\xi = 0.5$\")\n",
    "# plt.plot(data_dict_3[\"I_d\"], label = r\"$\\xi = 1.0$\")\n",
    "plt.plot(time_vec,data_dict_4[\"I_d\"], label = 'baseline', color = 'tab:red', linewidth='2')\n",
    "plt.xlabel('Years')\n",
    "plt.title(r\"Dirty Investment ($I_d$)\")\n",
    "# plt.ylim(0,1)\n",
    "# plt.xlim(0,IntPeriod)\n",
    "plt.legend(loc='lower left')\n",
    "\n",
    "plt.savefig('Id_Comp_IMSI_2023.png')"
   ]
  },
  {
   "cell_type": "code",
   "execution_count": 60,
   "id": "ba1009f3",
   "metadata": {},
   "outputs": [
    {
     "data": {
      "image/png": "[encoded data removed]",
      "text/plain": [
       "<Figure size 432x288 with 1 Axes>"
      ]
     },
     "metadata": {
      "needs_background": "light"
     },
     "output_type": "display_data"
    }
   ],
   "source": [
    "plt.figure()\n",
    "#plt.plot(data_dict_1[\"I_I/Y\"], label = r\"$\\xi = 0.15$\")\n",
    "plt.plot(time_vec,data_dict_1[\"I_I/Y\"], label = r\"$\\xi = 0.1$\", color = 'tab:blue', linewidth='2')\n",
    "# plt.plot(data_dict_2[\"I_I/Y\"], label = r\"$\\xi = 0.5$\")\n",
    "# plt.plot(data_dict_3[\"I_I/Y\"], label = r\"$\\xi = 1.0$\")\n",
    "plt.plot(time_vec,data_dict_4[\"I_I/Y\"], label = 'baseline', color = 'tab:red', linewidth='2')\n",
    "# plt.title(r\"$I_I/Y$\")\n",
    "plt.xlabel('Years')\n",
    "plt.title(r\"R&D Investment as % of Output ($I_{\\kappa}/Y$)\")\n",
    "# plt.ylim(0,1)\n",
    "# plt.xlim(0,IntPeriod)\n",
    "plt.legend(loc='upper right')\n",
    "\n",
    "plt.savefig('RD_Comp_IMSI_2023.png')"
   ]
  },
  {
   "cell_type": "code",
   "execution_count": 19,
   "id": "03ebe2b0",
   "metadata": {},
   "outputs": [],
   "source": [
    "# plt.figure()\n",
    "# #plt.plot(data_dict_1[\"I_I/Y\"], label = r\"$\\xi = 0.15$\")\n",
    "# plt.plot(data_dict_1[\"I_I\"], label = r\"$\\xi = 0.2$\", color = 'tab:blue', linewidth='2')\n",
    "# # plt.plot(data_dict_2[\"I_I/Y\"], label = r\"$\\xi = 0.5$\")\n",
    "# # plt.plot(data_dict_3[\"I_I/Y\"], label = r\"$\\xi = 1.0$\")\n",
    "# plt.plot(data_dict_4[\"I_I\"], label = 'baseline', color = 'tab:red', linewidth='2')\n",
    "# # plt.title(r\"$I_I/Y$\")\n",
    "# plt.xlabel('Years')\n",
    "# plt.title(r\"R&D Investment ($I_{\\kappa}$)\")\n",
    "# # plt.ylim(0,1)\n",
    "# # plt.xlim(0,IntPeriod)\n",
    "# plt.legend(loc='upper right')"
   ]
  },
  {
   "cell_type": "code",
   "execution_count": 20,
   "id": "00a5dcc8",
   "metadata": {},
   "outputs": [
    {
     "data": {
      "image/png": "[encoded data removed]",
      "text/plain": [
       "<Figure size 432x288 with 1 Axes>"
      ]
     },
     "metadata": {
      "needs_background": "light"
     },
     "output_type": "display_data"
    }
   ],
   "source": [
    "# x1       = np.array(list(range(gamma_3_length)))\n",
    "# plt.bar(x1,data_dict_1[\"distorted_normalized_damage_prob\"], width=0.4, label = r\"$\\xi = 0.2$\", alpha = 0.5)\n",
    "# plt.bar(x1,data_dict_4[\"baseline_normalized_damage_prob\"], width=0.4, label =  \"baseline\", alpha = 0.5)\n",
    "# plt.legend()\n",
    "\n",
    "f_m_norm_bar(data_dict_1)\n",
    "# plt.savefig('Dmg_Dist_IMSI_2023.png')"
   ]
  },
  {
   "cell_type": "code",
   "execution_count": 21,
   "id": "ebc58224",
   "metadata": {},
   "outputs": [
    {
     "data": {
      "image/png": "[encoded data removed]",
      "text/plain": [
       "<Figure size 432x288 with 1 Axes>"
      ]
     },
     "metadata": {
      "needs_background": "light"
     },
     "output_type": "display_data"
    }
   ],
   "source": [
    "h_hist(data_dict_1, width_bins = 0.000125)\n",
    "plt.savefig('Climate_Dist_IMSI_2023.png')"
   ]
  },
  {
   "cell_type": "code",
   "execution_count": 22,
   "id": "3597a408",
   "metadata": {},
   "outputs": [],
   "source": [
    "# data_dict['distorted_damage_jump_prob_1']   \n",
    "# data_dict['damage_jump_prob']\n",
    "data_dict_1['distorted_damage_jump_prob_avg'] = (1/5)*(data_dict_1['distorted_damage_jump_prob_1']+data_dict_1['distorted_damage_jump_prob_2']+data_dict_1['distorted_damage_jump_prob_3']+data_dict_1['distorted_damage_jump_prob_4']+data_dict_1['distorted_damage_jump_prob_5'])"
   ]
  },
  {
   "cell_type": "code",
   "execution_count": 23,
   "id": "0c249788",
   "metadata": {},
   "outputs": [],
   "source": [
    "for i in range(1, gamma_3_length+1):\n",
    "        data_dict_1['distorted_damage_jump_intensity_' + str(i)] =  data_dict_1['damage_jump_intensity'] \\\n",
    "                                                                             * data_dict_1['f_m_' + str(i) + '_simulation']\n",
    "\n",
    "            "
   ]
  },
  {
   "cell_type": "code",
   "execution_count": 24,
   "id": "506ec3c6",
   "metadata": {},
   "outputs": [],
   "source": [
    "data_dict_1['distorted_damage_jump_intensity'] = (1/5)*(data_dict_1['distorted_damage_jump_intensity_1']\n",
    "                                                       +data_dict_1['distorted_damage_jump_intensity_2']\n",
    "                                                       +data_dict_1['distorted_damage_jump_intensity_3']\n",
    "                                                       +data_dict_1['distorted_damage_jump_intensity_4']\n",
    "                                                       +data_dict_1['distorted_damage_jump_intensity_5'])"
   ]
  },
  {
   "cell_type": "code",
   "execution_count": 25,
   "id": "bbb11de9",
   "metadata": {},
   "outputs": [],
   "source": [
    "data_dict_1['distorted_damage_jump_prob'] = 1-np.exp(-np.cumsum(data_dict_1['distorted_damage_jump_intensity'] * (1/12)))\n"
   ]
  },
  {
   "cell_type": "code",
   "execution_count": 53,
   "id": "f7ece3c6",
   "metadata": {},
   "outputs": [],
   "source": [
    "data_dict_1['f_m_avg'] = (1/5)*(data_dict_1['f_m_1_simulation']\n",
    "                                                       +data_dict_1['f_m_2_simulation']\n",
    "                                                       +data_dict_1['f_m_3_simulation']\n",
    "                                                       +data_dict_1['f_m_4_simulation']\n",
    "                                                       +data_dict_1['f_m_5_simulation'])\n",
    "\n"
   ]
  },
  {
   "cell_type": "code",
   "execution_count": 54,
   "id": "8b71d713",
   "metadata": {},
   "outputs": [],
   "source": [
    "data_dict_1['distorted_dmg_jump_intensity'] = data_dict_1['f_m_avg']*data_dict_1['damage_jump_intensity']"
   ]
  },
  {
   "cell_type": "code",
   "execution_count": 55,
   "id": "8fa44f1d",
   "metadata": {},
   "outputs": [],
   "source": [
    "data_dict_1['distorted_dmg_jump_prob'] = 1-np.exp(-np.cumsum(data_dict_1['distorted_dmg_jump_intensity'] * (1/12)))\n"
   ]
  },
  {
   "cell_type": "code",
   "execution_count": 56,
   "id": "83141a6f",
   "metadata": {},
   "outputs": [
    {
     "data": {
      "image/png": "[encoded data removed]",
      "text/plain": [
       "<Figure size 432x288 with 1 Axes>"
      ]
     },
     "metadata": {
      "needs_background": "light"
     },
     "output_type": "display_data"
    }
   ],
   "source": [
    "plt.figure()\n",
    "plt.plot(time_vec,data_dict_1['distorted_dmg_jump_prob'], label = r\"$\\xi = 0.1$\", color = 'tab:blue', linewidth='2')\n",
    "plt.plot(time_vec,data_dict_4[\"damage_jump_prob\"], label = 'baseline', color = 'tab:red', linewidth='2')\n",
    "plt.xlabel('Years')\n",
    "plt.title(\"Distorted Probability of a Damage Jump\")\n",
    "# plt.ylim(0,1)\n",
    "# plt.xlim(0,IntPeriod)\n",
    "\n",
    "plt.legend(loc='lower right')\n",
    "\n",
    "plt.savefig('DmgJumpProb_Comp_IMSI_2023.png')"
   ]
  },
  {
   "cell_type": "code",
   "execution_count": 30,
   "id": "f2ec9372",
   "metadata": {},
   "outputs": [
    {
     "data": {
      "text/plain": [
       "array([0.43966365, 0.43966365, 0.43987737, 0.44009385, 0.44030957,\n",
       "       0.44052666, 0.44074382, 0.44095824, 0.44118103, 0.44140514,\n",
       "       0.44162424, 0.44184183, 0.44206638, 0.44229378, 0.4425155 ,\n",
       "       0.44274657, 0.44297607, 0.4432027 , 0.44343925, 0.44366267,\n",
       "       0.44390066, 0.44413285, 0.44436858, 0.44460191, 0.44484035,\n",
       "       0.44507309, 0.44531698, 0.44555249, 0.44579324, 0.44603672,\n",
       "       0.44628033, 0.44652503, 0.44676855, 0.447019  , 0.44726371,\n",
       "       0.44751236, 0.44775906, 0.4480124 , 0.44826289, 0.44851652,\n",
       "       0.44876994, 0.44902096, 0.44927949, 0.44953643, 0.44979146,\n",
       "       0.45005184, 0.45031542, 0.45057014, 0.45083758, 0.45109529,\n",
       "       0.45136058, 0.45163211, 0.45189308, 0.4521598 , 0.4524298 ,\n",
       "       0.45269138, 0.4529684 , 0.45323913, 0.45351087, 0.45378029,\n",
       "       0.45405777, 0.45433422, 0.45461047, 0.45488693, 0.45516584,\n",
       "       0.45544584, 0.45572782, 0.45600314, 0.45629135, 0.45657547,\n",
       "       0.45686249, 0.45714319, 0.45742761, 0.45771636, 0.45800489,\n",
       "       0.45830076, 0.45858539, 0.45887871, 0.459167  , 0.45946317,\n",
       "       0.45976306, 0.46005486, 0.46035852, 0.46065176, 0.4609533 ,\n",
       "       0.46125568, 0.46155475, 0.46185372, 0.46215607, 0.46246356,\n",
       "       0.46276481, 0.46307706, 0.46337799, 0.46369263, 0.46399375,\n",
       "       0.46430992, 0.46462466, 0.46493349, 0.46524624, 0.46555898,\n",
       "       0.46588266, 0.46619867, 0.46650873, 0.46683303, 0.4671506 ,\n",
       "       0.46747473, 0.46779417, 0.46811326, 0.46843944, 0.46876588,\n",
       "       0.46909137, 0.46941814, 0.46974215, 0.47007568, 0.47040706,\n",
       "       0.4707399 , 0.47107226, 0.47140129, 0.47173792, 0.47207091,\n",
       "       0.47240471, 0.47274768, 0.47309012, 0.47342415, 0.47376621,\n",
       "       0.47410631, 0.47444621, 0.47479071, 0.47514005, 0.47548607,\n",
       "       0.47583147, 0.47617968, 0.47652478, 0.47687247, 0.47723356,\n",
       "       0.47758235, 0.4779337 , 0.47829082, 0.47864115, 0.47900473,\n",
       "       0.47935796, 0.47972162, 0.48007841, 0.48044394, 0.48080105,\n",
       "       0.48116085, 0.48152943, 0.48189697, 0.48226073, 0.48262624,\n",
       "       0.4829951 , 0.48336577, 0.48374314, 0.48411334, 0.48448225,\n",
       "       0.48485308, 0.48522984, 0.48560424, 0.48598073, 0.48635899,\n",
       "       0.48673711, 0.48711745, 0.48749745, 0.4878829 , 0.48826456,\n",
       "       0.48864841, 0.48903182, 0.48941929, 0.48980794, 0.49019075,\n",
       "       0.49058481, 0.4909767 , 0.49136958, 0.49175718, 0.49215857,\n",
       "       0.49255179, 0.49294499, 0.49334753, 0.49374535, 0.49414089,\n",
       "       0.49454125, 0.49494659, 0.49535273, 0.49575637, 0.49615765,\n",
       "       0.49656667, 0.49697168, 0.49737951, 0.49778705, 0.49819894,\n",
       "       0.49861474, 0.49902576, 0.49943709, 0.49985667, 0.5002677 ,\n",
       "       0.50069097, 0.50110729, 0.50152767, 0.50194668, 0.50236838,\n",
       "       0.50279033, 0.50321088, 0.50363986, 0.50406136, 0.50448864,\n",
       "       0.50492678, 0.50535432, 0.50578046, 0.50621793, 0.50664338,\n",
       "       0.50708032, 0.5075139 , 0.50794995, 0.50838802, 0.50882623,\n",
       "       0.50926667, 0.50970755, 0.51014891, 0.51059717, 0.51103545,\n",
       "       0.51148356, 0.51192955, 0.51237671, 0.51282274, 0.5132803 ,\n",
       "       0.51372017, 0.51418146, 0.51463368, 0.51508161, 0.51554165,\n",
       "       0.51599663, 0.51645756, 0.51691082, 0.51737621, 0.51783323,\n",
       "       0.51829805, 0.51876031, 0.51922329, 0.51968723, 0.52015842,\n",
       "       0.52062885, 0.52109649, 0.52156953, 0.52203539, 0.52250993,\n",
       "       0.52298564, 0.52345578, 0.52393939, 0.52440993, 0.52488874,\n",
       "       0.52537159, 0.5258494 , 0.52633325, 0.52681258, 0.52729536,\n",
       "       0.52778304, 0.52827061, 0.52875561, 0.52924387, 0.52973565,\n",
       "       0.53023021, 0.53071635, 0.53121175, 0.53170675, 0.53220263,\n",
       "       0.53269637, 0.53319248, 0.5336917 , 0.53420054, 0.53469434,\n",
       "       0.5351994 , 0.53570446, 0.53621334, 0.53671044, 0.53722833,\n",
       "       0.53773684, 0.5382362 , 0.53874797, 0.53926276, 0.53977329,\n",
       "       0.54028667, 0.54080552, 0.54132143, 0.54183551, 0.542352  ,\n",
       "       0.54287923, 0.54339318, 0.5439145 , 0.54443816, 0.54496828,\n",
       "       0.54548652, 0.54601152, 0.54655169, 0.5470718 , 0.54760892,\n",
       "       0.54814183, 0.54866632, 0.54920048, 0.54973555, 0.55027328,\n",
       "       0.55081508, 0.55134888, 0.55188527, 0.55243049, 0.55297449,\n",
       "       0.55351564, 0.55405902, 0.5546023 , 0.55514622, 0.55569471,\n",
       "       0.55624952, 0.55679954, 0.55734918, 0.55790494, 0.55845088,\n",
       "       0.55901037, 0.55955981, 0.56011873, 0.56067708, 0.5612341 ,\n",
       "       0.56179303, 0.5623567 , 0.56291751, 0.5634842 , 0.56404697,\n",
       "       0.56461352, 0.56517846, 0.56575135, 0.56631921, 0.56688959,\n",
       "       0.56746832, 0.56803679, 0.56860882, 0.56918387, 0.56976022,\n",
       "       0.57034084, 0.57091992, 0.57149957, 0.57207568, 0.57265595,\n",
       "       0.57323484, 0.57382271, 0.57441393, 0.57499933, 0.57558419,\n",
       "       0.57617359, 0.57676131, 0.57735078, 0.57794534, 0.57853863,\n",
       "       0.57913743, 0.57973385, 0.58032947, 0.58091936, 0.58151847,\n",
       "       0.58211576, 0.58272912, 0.58332381, 0.58392462, 0.58453295,\n",
       "       0.58513755, 0.58574625, 0.58635256, 0.5869653 , 0.58757192,\n",
       "       0.58818244, 0.58879555, 0.58941004, 0.59002728, 0.59063641,\n",
       "       0.59125482, 0.59187559, 0.59249266, 0.59310983, 0.59373803,\n",
       "       0.59435933, 0.59497868, 0.59560611, 0.59622368, 0.59685463,\n",
       "       0.59748147, 0.59811049, 0.5987435 , 0.59936151, 0.60000367,\n",
       "       0.60064162, 0.6012724 , 0.60190346, 0.60253056, 0.60317947,\n",
       "       0.60381587, 0.60445539, 0.60509638, 0.6057433 , 0.60638096,\n",
       "       0.60702678, 0.60766896, 0.60830929, 0.60895862, 0.60960501,\n",
       "       0.6102575 , 0.61090878, 0.61156232, 0.61221824, 0.61286525,\n",
       "       0.6135213 , 0.61417424, 0.61483096, 0.61548583, 0.6161563 ,\n",
       "       0.6168076 , 0.61746877, 0.61812547, 0.61878904, 0.61945487,\n",
       "       0.62011155, 0.6207732 , 0.62145061, 0.62211385, 0.62278209,\n",
       "       0.62345027, 0.62412804, 0.62479799, 0.62546231, 0.62614418,\n",
       "       0.62681476, 0.62748773, 0.62816736, 0.6288447 , 0.62952546,\n",
       "       0.6301982 , 0.6308745 , 0.63156403, 0.63225412, 0.63292689,\n",
       "       0.6336132 , 0.63429529, 0.63498482, 0.6356763 , 0.6363588 ,\n",
       "       0.63704069, 0.63773965, 0.63842142, 0.63911389, 0.63980883,\n",
       "       0.64050609, 0.64120126, 0.6418908 , 0.64259033, 0.64328434,\n",
       "       0.64398645, 0.64468516, 0.64538435, 0.64609227, 0.64678484,\n",
       "       0.64749398, 0.64819356, 0.64889868, 0.64960759, 0.65031573,\n",
       "       0.65101474, 0.65172668, 0.65243586, 0.65314217, 0.65385732,\n",
       "       0.65456282, 0.65528147, 0.65600463, 0.65670894, 0.65742975,\n",
       "       0.65814483, 0.65886329, 0.65957555, 0.66029412, 0.66101308,\n",
       "       0.66173742, 0.66244942, 0.66318111, 0.66390287, 0.66462516,\n",
       "       0.66534249, 0.66607007, 0.66680117, 0.66752301, 0.66824729,\n",
       "       0.66897785, 0.66970691, 0.67043936, 0.6711708 , 0.67190331,\n",
       "       0.67263781, 0.67336497, 0.67410159, 0.6748312 , 0.67556549,\n",
       "       0.67630944, 0.67705011, 0.67777894, 0.67852013, 0.67925998,\n",
       "       0.67999588, 0.68073556, 0.68148121, 0.68222181, 0.68296522,\n",
       "       0.68370953, 0.68445325, 0.68519727, 0.68594568, 0.68668939,\n",
       "       0.68743891, 0.68818581, 0.68893597, 0.68968514, 0.69043475,\n",
       "       0.69118736, 0.69194148, 0.69268116, 0.69344631, 0.69420121,\n",
       "       0.69494419, 0.69570231, 0.69645613, 0.69721653, 0.69796554,\n",
       "       0.69872186, 0.69947632, 0.70024475, 0.70099865, 0.70175968,\n",
       "       0.70253087, 0.70327827, 0.70404924, 0.70480567, 0.70556654,\n",
       "       0.706336  , 0.70709007, 0.70786523, 0.70861538, 0.70938733,\n",
       "       0.71014972, 0.7109139 , 0.71169135, 0.71246229, 0.71322404,\n",
       "       0.71399035, 0.71476961, 0.71552911, 0.71629941, 0.71707907,\n",
       "       0.71784275, 0.71862028, 0.71939374, 0.72016145, 0.72094303,\n",
       "       0.72170218, 0.72247434, 0.72326412, 0.72403699, 0.72481069,\n",
       "       0.72558511, 0.7263627 , 0.72713687, 0.72791554, 0.72870048,\n",
       "       0.72948151, 0.73025127, 0.73103545, 0.73181138, 0.73259532,\n",
       "       0.73337184, 0.73415179, 0.73492036, 0.73571935, 0.73649678,\n",
       "       0.73727838, 0.73806431, 0.73884322, 0.7396266 , 0.74041501,\n",
       "       0.74119702, 0.74198689, 0.74276453, 0.74355934, 0.74434116,\n",
       "       0.74512523, 0.74592164, 0.74669782, 0.7474887 , 0.74827992,\n",
       "       0.74906352, 0.74984555, 0.75064537, 0.75143333, 0.75221594,\n",
       "       0.75300347, 0.75379325, 0.75458176, 0.75536782, 0.75616056,\n",
       "       0.75695569, 0.757755  , 0.75853258, 0.75932024, 0.76011727,\n",
       "       0.76091113, 0.76170267, 0.76248676, 0.76329116, 0.7640758 ,\n",
       "       0.76487212, 0.76566887, 0.76645715, 0.76725412, 0.76803566,\n",
       "       0.76884083, 0.76962291, 0.77041685, 0.77121379, 0.77200691,\n",
       "       0.77279655, 0.77359359, 0.77439801, 0.77519093, 0.7759883 ,\n",
       "       0.77677808, 0.777574  , 0.77836719, 0.77914858, 0.77995187,\n",
       "       0.78075465, 0.78155017, 0.78233277, 0.78312775, 0.78392961,\n",
       "       0.78472118, 0.7855182 , 0.78631975, 0.78710614, 0.78790615,\n",
       "       0.78870285, 0.78950346, 0.79028776, 0.79109149, 0.79187688,\n",
       "       0.79267739, 0.7934676 , 0.79427816, 0.7950683 , 0.79585083,\n",
       "       0.79665742, 0.7974522 , 0.7982453 , 0.79904003, 0.79982655,\n",
       "       0.80062966, 0.8014258 , 0.80222135, 0.80301285, 0.80380389,\n",
       "       0.8045981 , 0.80538759, 0.80617722, 0.80698493, 0.80778274,\n",
       "       0.80857092, 0.80935924, 0.81016047, 0.81094861, 0.81174334,\n",
       "       0.81253366, 0.81333283, 0.81411372, 0.81490063, 0.81570903,\n",
       "       0.8165058 , 0.81728308, 0.81807938, 0.81885637, 0.81965772,\n",
       "       0.82045639, 0.82124394, 0.82203086, 0.82281071, 0.82361146,\n",
       "       0.82439961, 0.82519034, 0.82597471, 0.82675872, 0.82754455,\n",
       "       0.8283427 , 0.82913864, 0.82991364, 0.83070165, 0.83148318,\n",
       "       0.83227693, 0.83306768, 0.83384156, 0.83462616, 0.83542005,\n",
       "       0.83619101, 0.83698379, 0.83776801, 0.83855104, 0.83932883,\n",
       "       0.84011754, 0.84089874, 0.84168269, 0.84246753, 0.84323472,\n",
       "       0.84402725, 0.84480943, 0.84558323, 0.84636728, 0.84713359,\n",
       "       0.8479129 , 0.84869192, 0.84947594, 0.85025314, 0.85102586])"
      ]
     },
     "execution_count": 30,
     "metadata": {},
     "output_type": "execute_result"
    }
   ],
   "source": [
    "data_dict_1['f_m_avg']"
   ]
  },
  {
   "cell_type": "code",
   "execution_count": null,
   "id": "fd39c925",
   "metadata": {},
   "outputs": [],
   "source": []
  },
  {
   "cell_type": "code",
   "execution_count": null,
   "id": "50c493c4",
   "metadata": {},
   "outputs": [],
   "source": []
  },
  {
   "cell_type": "code",
   "execution_count": null,
   "id": "2d0563f4",
   "metadata": {},
   "outputs": [],
   "source": []
  },
  {
   "cell_type": "code",
   "execution_count": null,
   "id": "a31a78f4",
   "metadata": {},
   "outputs": [],
   "source": []
  },
  {
   "cell_type": "code",
   "execution_count": null,
   "id": "bcdb7404",
   "metadata": {},
   "outputs": [],
   "source": []
  },
  {
   "cell_type": "code",
   "execution_count": null,
   "id": "2ec4a309",
   "metadata": {},
   "outputs": [],
   "source": []
  },
  {
   "cell_type": "code",
   "execution_count": null,
   "id": "fe0b2e68",
   "metadata": {},
   "outputs": [],
   "source": []
  }
 ],
 "metadata": {
  "kernelspec": {
   "display_name": "Python 3 (ipykernel)",
   "language": "python",
   "name": "python3"
  },
  "language_info": {
   "codemirror_mode": {
    "name": "ipython",
    "version": 3
   },
   "file_extension": ".py",
   "mimetype": "text/x-python",
   "name": "python",
   "nbconvert_exporter": "python",
   "pygments_lexer": "ipython3",
   "version": "3.8.8"
  }
 },
 "nbformat": 4,
 "nbformat_minor": 5
}
